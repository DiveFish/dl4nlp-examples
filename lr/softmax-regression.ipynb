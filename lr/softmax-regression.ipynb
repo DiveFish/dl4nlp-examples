{
 "cells": [
  {
   "cell_type": "code",
   "execution_count": 1,
   "metadata": {
    "collapsed": true
   },
   "outputs": [],
   "source": [
    "%matplotlib inline\n",
    "\n",
    "from enum import Enum\n",
    "\n",
    "import matplotlib.pyplot as plt\n",
    "import numpy as np\n",
    "import tensorflow as tf\n",
    "from ipywidgets import interact, IntSlider\n",
    "\n",
    "from boundary import plot_decision_boundary\n",
    "from gaussian import n_gaussians\n",
    "\n",
    "np.random.seed(0)"
   ]
  },
  {
   "cell_type": "code",
   "execution_count": 2,
   "metadata": {
    "collapsed": true
   },
   "outputs": [],
   "source": [
    "class Phase(Enum):\n",
    "    Train = 0\n",
    "    Validation = 1\n",
    "    Predict = 2"
   ]
  },
  {
   "cell_type": "code",
   "execution_count": 3,
   "metadata": {
    "collapsed": true
   },
   "outputs": [],
   "source": [
    "class Model:\n",
    "    def __init__(self, batch_size, input_dims, n_classes, phase = Phase.Predict):\n",
    "        self._x = x = tf.placeholder(tf.float32, shape=[batch_size, input_dims])\n",
    "        \n",
    "        if phase != Phase.Predict:\n",
    "            self._y = y = tf.placeholder(tf.int32, shape=[batch_size])\n",
    "\n",
    "        W = tf.get_variable(\"W\", shape = [input_dims, n_classes])\n",
    "        b = tf.get_variable(\"b\", shape = [n_classes])\n",
    "\n",
    "        logits = tf.matmul(x, W) + b\n",
    "\n",
    "        if phase == Phase.Train:\n",
    "            losses = tf.nn.sparse_softmax_cross_entropy_with_logits(labels = y, logits = logits)\n",
    "            self._loss = loss = tf.reduce_sum(losses)    \n",
    "            self._train_op = tf.train.GradientDescentOptimizer(0.05).minimize(losses)\n",
    "        else:\n",
    "            self._probs = probs = tf.nn.softmax(logits)\n",
    "            \n",
    "        if phase == Phase.Validation or phase == Phase.Predict:\n",
    "            _, labels = tf.nn.top_k(logits)\n",
    "            self._labels = labels = tf.reshape(labels,[-1])\n",
    "            \n",
    "            if phase == Phase.Validation:\n",
    "                correct = tf.equal(y, labels)\n",
    "                correct = tf.cast(correct, tf.float32)            \n",
    "                self._accuracy = tf.reduce_mean(correct)\n",
    "        \n",
    "    @property\n",
    "    def x(self):\n",
    "        return self._x\n",
    "        \n",
    "    @property\n",
    "    def y(self):\n",
    "        return self._y\n",
    "\n",
    "    @property\n",
    "    def loss(self):\n",
    "        return self._loss\n",
    "    \n",
    "    @property\n",
    "    def labels(self):\n",
    "        return self._labels\n",
    "\n",
    "    @property\n",
    "    def train_op(self):\n",
    "        return self._train_op\n",
    "\n",
    "    @property\n",
    "    def probs(self):\n",
    "        return self._probs\n",
    "        \n",
    "    @property\n",
    "    def accuracy(self):\n",
    "        return self._accuracy"
   ]
  },
  {
   "cell_type": "code",
   "execution_count": 4,
   "metadata": {
    "collapsed": true
   },
   "outputs": [],
   "source": [
    "X_train, Y_train = n_gaussians(np.array([[0.8, 0.2],[0.2, 0.8],[0.1, 0.1]]), np.array([0, 1, 2], dtype=np.float32), 100, stddev=0.1)\n",
    "X_validate, Y_validate = n_gaussians(np.array([[0.8, 0.2],[0.2, 0.8],[0.1, 0.1]]), np.array([0, 1, 2], dtype=np.float32), 100, stddev=0.1)"
   ]
  },
  {
   "cell_type": "code",
   "execution_count": 5,
   "metadata": {},
   "outputs": [
    {
     "name": "stdout",
     "output_type": "stream",
     "text": [
      "97.4018 [0.47]\n",
      "76.922 [0.5]\n",
      "66.8135 [0.67000002]\n",
      "53.1501 [0.79000002]\n",
      "42.0552 [0.94]\n",
      "33.0319 [0.95999998]\n",
      "28.64 [0.98000002]\n",
      "25.7033 [0.99000001]\n",
      "23.3614 [1.0]\n",
      "21.4041 [1.0]\n"
     ]
    }
   ],
   "source": [
    "tf.reset_default_graph()\n",
    "sess = tf.Session()\n",
    "\n",
    "with tf.variable_scope(\"model\", reuse=False):\n",
    "    train_model = Model(X_train.shape[0], X_train.shape[1], n_classes = 3, phase = Phase.Train)\n",
    "        \n",
    "with tf.variable_scope(\"model\", reuse=True):\n",
    "    validation_model = Model(X_validate.shape[0], X_validate.shape[1], n_classes = 3, phase = Phase.Validation)\n",
    "    \n",
    "with tf.variable_scope(\"model\", reuse=True):\n",
    "    predict_model = Model(X_validate.shape[0], X_validate.shape[1], n_classes = 3, phase = Phase.Predict)\n",
    "    \n",
    "sess.run(tf.global_variables_initializer())\n",
    "    \n",
    "for i in range(10):\n",
    "    epoch_loss, _ = sess.run([train_model.loss, train_model.train_op],\n",
    "                            {train_model.x: X_train, train_model.y: Y_train})\n",
    "    accuracy = sess.run([validation_model.accuracy],\n",
    "                        {validation_model.x: X_validate, validation_model.y: Y_validate})\n",
    "    print(epoch_loss, accuracy)"
   ]
  },
  {
   "cell_type": "code",
   "execution_count": 6,
   "metadata": {},
   "outputs": [
    {
     "data": {
      "image/png": "[encoded data removed]",
      "text/plain": [
       "<matplotlib.figure.Figure at 0x1069f25c0>"
      ]
     },
     "metadata": {},
     "output_type": "display_data"
    }
   ],
   "source": [
    "fig = plt.figure(figsize=(8, 6))\n",
    "sub = fig.add_subplot(111)\n",
    "\n",
    "def classify(x):\n",
    "    return sess.run([predict_model.labels], {predict_model.x: x})[0]\n",
    "\n",
    "plot_decision_boundary(sub, lambda x: classify(x), X_validate, Y_validate,\n",
    "                           batch_size = X_validate.shape[0],\n",
    "                           x_range = (X_validate[:,0].min(), X_validate[:,0].max()),\n",
    "                           y_range = (X_validate[:,1].min(), X_validate[:,1].max()))"
   ]
  },
  {
   "cell_type": "code",
   "execution_count": 7,
   "metadata": {
    "collapsed": true
   },
   "outputs": [],
   "source": [
    "sess.close()"
   ]
  }
 ],
 "metadata": {
  "kernelspec": {
   "display_name": "Python 3",
   "language": "python",
   "name": "python3"
  },
  "language_info": {
   "codemirror_mode": {
    "name": "ipython",
    "version": 3
   },
   "file_extension": ".py",
   "mimetype": "text/x-python",
   "name": "python",
   "nbconvert_exporter": "python",
   "pygments_lexer": "ipython3",
   "version": "3.5.3"
  }
 },
 "nbformat": 4,
 "nbformat_minor": 2
}
