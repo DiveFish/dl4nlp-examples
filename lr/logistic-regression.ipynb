{
 "cells": [
  {
   "cell_type": "code",
   "execution_count": 1,
   "metadata": {
    "collapsed": true
   },
   "outputs": [],
   "source": [
    "%matplotlib inline\n",
    "\n",
    "from enum import Enum\n",
    "\n",
    "import matplotlib.pyplot as plt\n",
    "import numpy as np\n",
    "import tensorflow as tf\n",
    "from ipywidgets import interact, IntSlider\n",
    "\n",
    "from boundary import plot_decision_boundary\n",
    "from gaussian import n_gaussians\n",
    "\n",
    "np.random.seed(0)"
   ]
  },
  {
   "cell_type": "code",
   "execution_count": 2,
   "metadata": {
    "collapsed": true
   },
   "outputs": [],
   "source": [
    "class Phase(Enum):\n",
    "    Train = 0\n",
    "    Validation = 1\n",
    "    Predict = 2"
   ]
  },
  {
   "cell_type": "code",
   "execution_count": 3,
   "metadata": {
    "collapsed": true
   },
   "outputs": [],
   "source": [
    "class Model:\n",
    "    def __init__(self, batch_size, input_dims, phase = Phase.Predict):\n",
    "        self._x = x = tf.placeholder(tf.float32, shape=[batch_size, input_dims])\n",
    "        \n",
    "        if phase != Phase.Predict:\n",
    "            self._y = y = tf.placeholder(tf.int32, shape=[batch_size])\n",
    "\n",
    "        w = tf.get_variable(\"w\", shape = [input_dims, 1])\n",
    "        b = tf.get_variable(\"b\", shape = 1)\n",
    "\n",
    "        logits = tf.matmul(x, w) + b\n",
    "        logits = tf.reshape(logits, [-1])\n",
    "\n",
    "        if phase == Phase.Train:\n",
    "            losses = tf.nn.sigmoid_cross_entropy_with_logits(labels = tf.cast(y, tf.float32), logits = logits)\n",
    "            self._loss = loss = tf.reduce_sum(losses)    \n",
    "            self._train_op = tf.train.GradientDescentOptimizer(0.05).minimize(loss)\n",
    "        else:\n",
    "            self._probs = probs = tf.sigmoid(logits)\n",
    "            self._labels = tf.cast(tf.round(probs), tf.int32)\n",
    "            \n",
    "        if phase == Phase.Validation:\n",
    "            correct = tf.equal(y, self.labels)\n",
    "            self._accuracy = tf.reduce_mean(tf.cast(correct, tf.float32))\n",
    "        \n",
    "    @property\n",
    "    def x(self):\n",
    "        return self._x\n",
    "        \n",
    "    @property\n",
    "    def y(self):\n",
    "        return self._y\n",
    "    \n",
    "    @property\n",
    "    def labels(self):\n",
    "        return self._labels\n",
    "\n",
    "    @property\n",
    "    def loss(self):\n",
    "        return self._loss\n",
    "\n",
    "    @property\n",
    "    def train_op(self):\n",
    "        return self._train_op\n",
    "\n",
    "    @property\n",
    "    def probs(self):\n",
    "        return self._probs\n",
    "        \n",
    "    @property\n",
    "    def accuracy(self):\n",
    "        return self._accuracy"
   ]
  },
  {
   "cell_type": "code",
   "execution_count": 4,
   "metadata": {
    "collapsed": true
   },
   "outputs": [],
   "source": [
    "X_train, Y_train = n_gaussians(np.array([[0.8, 0.2],[0.2, 0.8]]), np.array([0, 1], dtype=np.float32), 100, stddev=0.1)\n",
    "X_validate, Y_validate = n_gaussians(np.array([[0.8, 0.2],[0.2, 0.8]]), np.array([0, 1], dtype=np.float32), 100, stddev=0.1)"
   ]
  },
  {
   "cell_type": "code",
   "execution_count": 5,
   "metadata": {},
   "outputs": [
    {
     "name": "stdout",
     "output_type": "stream",
     "text": [
      "68.2633 0.96\n",
      "48.8112 1.0\n",
      "37.1508 1.0\n",
      "29.8023 1.0\n",
      "24.8552 1.0\n",
      "21.33 1.0\n",
      "18.6999 1.0\n",
      "16.6658 1.0\n",
      "15.0467 1.0\n",
      "13.7276 1.0\n"
     ]
    }
   ],
   "source": [
    "tf.reset_default_graph()\n",
    "sess = tf.Session()\n",
    "\n",
    "with tf.variable_scope(\"model\", reuse=False):\n",
    "    train_model = Model(X_train.shape[0], X_train.shape[1], phase = Phase.Train)\n",
    "        \n",
    "with tf.variable_scope(\"model\", reuse=True):\n",
    "    validation_model = Model(X_validate.shape[0], X_validate.shape[1], phase = Phase.Validation)\n",
    "    \n",
    "with tf.variable_scope(\"model\", reuse=True):\n",
    "    predict_model = Model(X_validate.shape[0], X_validate.shape[1], phase = Phase.Predict)\n",
    "    \n",
    "sess.run(tf.global_variables_initializer())\n",
    "    \n",
    "for i in range(10):\n",
    "    epoch_loss, _ = sess.run([train_model.loss, train_model.train_op],\n",
    "                            {train_model.x: X_train, train_model.y: Y_train})\n",
    "    accuracy, = sess.run([validation_model.accuracy],\n",
    "                        {validation_model.x: X_validate, validation_model.y: Y_validate})\n",
    "    print(epoch_loss, accuracy)"
   ]
  },
  {
   "cell_type": "code",
   "execution_count": 6,
   "metadata": {},
   "outputs": [
    {
     "data": {
      "image/png": "[encoded data removed]",
      "text/plain": [
       "<matplotlib.figure.Figure at 0x110ba6048>"
      ]
     },
     "metadata": {},
     "output_type": "display_data"
    }
   ],
   "source": [
    "fig = plt.figure(figsize=(8, 6))\n",
    "sub = fig.add_subplot(111)\n",
    "\n",
    "def classify(x):\n",
    "    return sess.run([predict_model.labels], {predict_model.x: x})[0]\n",
    "\n",
    "plot_decision_boundary(sub, lambda x: classify(x), X_validate, Y_validate,\n",
    "                           batch_size = X_validate.shape[0],\n",
    "                           x_range = (X_validate[:,0].min(), X_validate[:,0].max()),\n",
    "                           y_range = (X_validate[:,1].min(), X_validate[:,1].max()))"
   ]
  },
  {
   "cell_type": "code",
   "execution_count": 7,
   "metadata": {
    "collapsed": true
   },
   "outputs": [],
   "source": [
    "sess.close()"
   ]
  },
  {
   "cell_type": "code",
   "execution_count": null,
   "metadata": {
    "collapsed": true
   },
   "outputs": [],
   "source": []
  }
 ],
 "metadata": {
  "kernelspec": {
   "display_name": "Python 3",
   "language": "python",
   "name": "python3"
  },
  "language_info": {
   "codemirror_mode": {
    "name": "ipython",
    "version": 3
   },
   "file_extension": ".py",
   "mimetype": "text/x-python",
   "name": "python",
   "nbconvert_exporter": "python",
   "pygments_lexer": "ipython3",
   "version": "3.5.3"
  }
 },
 "nbformat": 4,
 "nbformat_minor": 2
}
